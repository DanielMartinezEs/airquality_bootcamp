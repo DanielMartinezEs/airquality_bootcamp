{
 "cells": [
  {
   "cell_type": "markdown",
   "id": "4c192a8b",
   "metadata": {},
   "source": [
    "# Capstone Project (Wizeline Bootcamp)\n",
    "## Air Quality Dataset Analysis\n",
    "### Daniel Martínez Escobosa (Correcciones Entrega 1)"
   ]
  },
  {
   "cell_type": "code",
   "execution_count": 1,
   "id": "b65000e1",
   "metadata": {},
   "outputs": [],
   "source": [
    "import pandas as pd\n",
    "import numpy as np\n",
    "import seaborn as sns\n",
    "import matplotlib.pyplot as plt\n",
    "from scipy import stats\n",
    "from scipy.stats import skew, kurtosis\n",
    "from sklearn.metrics import *\n",
    "from sklearn.model_selection import GridSearchCV, train_test_split\n",
    "from sklearn.preprocessing import MinMaxScaler\n",
    "from sklearn.metrics import mean_squared_error, r2_score, mean_absolute_error\n",
    "from sklearn.ensemble import RandomForestRegressor"
   ]
  },
  {
   "cell_type": "markdown",
   "id": "1c1870bd",
   "metadata": {},
   "source": [
    "# <b>1. Cargando el dataset</b>"
   ]
  },
  {
   "cell_type": "code",
   "execution_count": 2,
   "id": "18bd4592",
   "metadata": {},
   "outputs": [],
   "source": [
    "#Se importa dataset\n",
    "dataset_path = '../data/raw/AirQualityUCI.csv'\n",
    "raw_data = pd.read_csv(dataset_path, sep=';', decimal=',', parse_dates=[['Date', 'Time']])\n",
    "\n",
    "#Se visualiza que figuran dos columnas extra (nulas) al extremo derecho de la matriz tabular que hay que remover\n",
    "raw_data = raw_data.iloc[:, :-2]\n",
    "#Procediendo a eliminar filas del dataset se asegura tener el dataset limpios de filas y columnas llenas de valores nulos y lograr la coincidencia de dimensión del dataset según la bibliografía.\n",
    "raw_data = raw_data.head(9357)"
   ]
  },
  {
   "cell_type": "markdown",
   "id": "c4af26c4",
   "metadata": {},
   "source": [
    "# <b>2. PreprocessingData Prepare: Imputation</b>\n",
    "## <b>2.1 Data Prepare: Missing Values and Imputation</b>\n",
    "Lidiando con la información faltante del dataset"
   ]
  },
  {
   "cell_type": "code",
   "execution_count": 3,
   "id": "b8a200d1",
   "metadata": {},
   "outputs": [],
   "source": [
    "#Y ahora se reemplazan dichos valores a NaN para poder estudiar la distribución de información no nula de cada variable y poder proponer un método de imputación adecuado a cada caso\n",
    "trusted_data = raw_data.replace(to_replace = -200, value = np.NaN)\n",
    "\n",
    "#Alternativa 1. Imputación de datos faltantes. Se define criterio individual para cada variable según su distribución.\n",
    "imputation_methods = {\n",
    "    'CO(GT)': 'median',\n",
    "    'NOx(GT)': 'mean',\n",
    "    'NO2(GT)': 'mean',\n",
    "    'PT08.S4(NO2)': 'mean',\n",
    "    'PT08.S5(O3)': 'mean',\n",
    "    'T': 'mean',\n",
    "    'RH': 'mean',\n",
    "    'AH': 'mean'\n",
    "}\n",
    "\n",
    "# Se itera sobre el diccionario y se aplica el método de imputación correspondiente a cada columna\n",
    "for column, method in imputation_methods.items():\n",
    "    if method == 'mean':\n",
    "        trusted_data[column].fillna(trusted_data[column].mean(), inplace=True)\n",
    "    elif method == 'median':\n",
    "        trusted_data[column].fillna(trusted_data[column].median(), inplace=True)\n",
    "    elif method == 'mode':\n",
    "        trusted_data[column].fillna(trusted_data[column].mode()[0], inplace=True)\n",
    "    else:\n",
    "        print(f'Método de imputación no válido para la columna {column}: {method}')\n"
   ]
  },
  {
   "cell_type": "markdown",
   "id": "a71f28d4",
   "metadata": {},
   "source": [
    "## <b>2.2 Feature Processing</b>"
   ]
  },
  {
   "cell_type": "code",
   "execution_count": 4,
   "id": "dc090153",
   "metadata": {},
   "outputs": [
    {
     "data": {
      "text/html": [
       "<div>\n",
       "<style scoped>\n",
       "    .dataframe tbody tr th:only-of-type {\n",
       "        vertical-align: middle;\n",
       "    }\n",
       "\n",
       "    .dataframe tbody tr th {\n",
       "        vertical-align: top;\n",
       "    }\n",
       "\n",
       "    .dataframe thead th {\n",
       "        text-align: right;\n",
       "    }\n",
       "</style>\n",
       "<table border=\"1\" class=\"dataframe\">\n",
       "  <thead>\n",
       "    <tr style=\"text-align: right;\">\n",
       "      <th></th>\n",
       "      <th>CO(GT)</th>\n",
       "      <th>NOx(GT)</th>\n",
       "      <th>NO2(GT)</th>\n",
       "      <th>PT08.S4(NO2)</th>\n",
       "      <th>PT08.S5(O3)</th>\n",
       "      <th>T</th>\n",
       "      <th>RH</th>\n",
       "      <th>AH</th>\n",
       "    </tr>\n",
       "  </thead>\n",
       "  <tbody>\n",
       "    <tr>\n",
       "      <th>0</th>\n",
       "      <td>2.6</td>\n",
       "      <td>166.0</td>\n",
       "      <td>113.0</td>\n",
       "      <td>1692.0</td>\n",
       "      <td>1268.0</td>\n",
       "      <td>13.6</td>\n",
       "      <td>48.9</td>\n",
       "      <td>0.7578</td>\n",
       "    </tr>\n",
       "    <tr>\n",
       "      <th>1</th>\n",
       "      <td>2.0</td>\n",
       "      <td>103.0</td>\n",
       "      <td>92.0</td>\n",
       "      <td>1559.0</td>\n",
       "      <td>972.0</td>\n",
       "      <td>13.3</td>\n",
       "      <td>47.7</td>\n",
       "      <td>0.7255</td>\n",
       "    </tr>\n",
       "    <tr>\n",
       "      <th>2</th>\n",
       "      <td>2.2</td>\n",
       "      <td>131.0</td>\n",
       "      <td>114.0</td>\n",
       "      <td>1555.0</td>\n",
       "      <td>1074.0</td>\n",
       "      <td>11.9</td>\n",
       "      <td>54.0</td>\n",
       "      <td>0.7502</td>\n",
       "    </tr>\n",
       "    <tr>\n",
       "      <th>3</th>\n",
       "      <td>2.2</td>\n",
       "      <td>172.0</td>\n",
       "      <td>122.0</td>\n",
       "      <td>1584.0</td>\n",
       "      <td>1203.0</td>\n",
       "      <td>11.0</td>\n",
       "      <td>60.0</td>\n",
       "      <td>0.7867</td>\n",
       "    </tr>\n",
       "    <tr>\n",
       "      <th>4</th>\n",
       "      <td>1.6</td>\n",
       "      <td>131.0</td>\n",
       "      <td>116.0</td>\n",
       "      <td>1490.0</td>\n",
       "      <td>1110.0</td>\n",
       "      <td>11.2</td>\n",
       "      <td>59.6</td>\n",
       "      <td>0.7888</td>\n",
       "    </tr>\n",
       "  </tbody>\n",
       "</table>\n",
       "</div>"
      ],
      "text/plain": [
       "   CO(GT)  NOx(GT)  NO2(GT)  PT08.S4(NO2)  PT08.S5(O3)     T    RH      AH\n",
       "0     2.6    166.0    113.0        1692.0       1268.0  13.6  48.9  0.7578\n",
       "1     2.0    103.0     92.0        1559.0        972.0  13.3  47.7  0.7255\n",
       "2     2.2    131.0    114.0        1555.0       1074.0  11.9  54.0  0.7502\n",
       "3     2.2    172.0    122.0        1584.0       1203.0  11.0  60.0  0.7867\n",
       "4     1.6    131.0    116.0        1490.0       1110.0  11.2  59.6  0.7888"
      ]
     },
     "execution_count": 4,
     "metadata": {},
     "output_type": "execute_result"
    }
   ],
   "source": [
    "#Observando que la variable NMHC tiene demasiados valores faltantes (90.23% son faltantes), y ninguno de los métodos de imputación probados arrojan buenos resultados, quitamos del dataset. Nota: si más adelante no se obtienen buenos resultados con los modelos, podríamos regresar a rescatar la variable  avanzados como interpolación o modelos de machine learning. Date time también se elimina dado que no interesa en el ejercicio realizar un modelo de serie de tiempo.\n",
    "trusted_data = trusted_data.drop(['NMHC(GT)','Date_Time'],axis='columns')\n",
    "#Se establece empíricamente el umbral de abs(corr)>=0.8 y se observan variables altamente correlacionada, por lo que se descartan del análisis.\n",
    "trusted_data = trusted_data.drop(['C6H6(GT)','PT08.S1(CO)','PT08.S2(NMHC)','PT08.S3(NOx)'],axis='columns')\n",
    "trusted_data.head()"
   ]
  },
  {
   "cell_type": "markdown",
   "id": "bc43be29",
   "metadata": {},
   "source": [
    "## <b>2.3 Dealing with Outliers</b>"
   ]
  },
  {
   "cell_type": "code",
   "execution_count": 5,
   "id": "fcbef00b",
   "metadata": {},
   "outputs": [],
   "source": [
    "#Tratamiento Outliers. \n",
    "#Se define función que da tratamiento a outliers previo a realizar transformaciones de datos para buscar distribuciones lo más simétricas posibles (cercanas a 0 en skew)\n",
    "def remove_outliers(dataframe):\n",
    "    \"\"\"\n",
    "    Elimina outliers de un DataFrame de pandas basado en la regla de 3 desviaciones estándar.\n",
    "    \n",
    "    \"\"\"\n",
    "    dataframe_cleaned = dataframe.copy()\n",
    "    for column in dataframe.columns:\n",
    "        if pd.api.types.is_numeric_dtype(dataframe[column]):\n",
    "            mean = dataframe[column].mean()\n",
    "            std_dev = dataframe[column].std()\n",
    "            \n",
    "            # Calcular límites para identificar outliers\n",
    "            cut_off = std_dev * 4\n",
    "            lower, upper = mean - cut_off, mean + cut_off\n",
    "            \n",
    "            # Filtrar outliers\n",
    "            dataframe_cleaned = dataframe_cleaned[(dataframe_cleaned[column] > lower) & (dataframe_cleaned[column] < upper)]\n",
    "    \n",
    "    return dataframe_cleaned\n",
    "\n",
    "# Se aplica la función al dataframe y se imprime también reporte de plots\n",
    "trusted_data = remove_outliers(trusted_data)"
   ]
  },
  {
   "cell_type": "markdown",
   "id": "8e544deb",
   "metadata": {},
   "source": [
    "### <b>Exploración del dataset a través de estadística descriptiva al dataset</b>"
   ]
  },
  {
   "cell_type": "code",
   "execution_count": 6,
   "id": "8a510f72",
   "metadata": {
    "scrolled": false
   },
   "outputs": [],
   "source": [
    "# Graficar histogramas y boxplots, y calcular sesgo, curtosis y número de registros outliers\n",
    "\n",
    "def plot_hist_boxplot_skew_kurt_outliers(dataframe):\n",
    "    \"\"\"\n",
    "    Esta función grafica histogramas y boxplots para cada columna del DataFrame,\n",
    "    calcula y muestra la skewness y la kurtosis para los valores no nulos de cada columna,\n",
    "    e identifica outliers asumiendo como tal a aquel dato que esté por fuera de 3 desviaciones estándar de la media.\n",
    "    \n",
    "    \"\"\"\n",
    "    for column in dataframe.columns:\n",
    "        plt.figure(figsize=(12, 5))\n",
    "        \n",
    "        # Histograma\n",
    "        plt.subplot(1, 2, 1)\n",
    "        sns.histplot(dataframe[column], kde=True, color='skyblue')\n",
    "        plt.title(f'Histograma de {column}')\n",
    "        \n",
    "        # Boxplot\n",
    "        plt.subplot(1, 2, 2)\n",
    "        sns.boxplot(x=dataframe[column], color='lightgreen')\n",
    "        plt.title(f'Boxplot de {column}')\n",
    "        \n",
    "        plt.show()\n",
    "\n",
    "        # Filtrar valores no nulos\n",
    "        non_null_values = dataframe[column].dropna()\n",
    "\n",
    "        # Calcular y mostrar skewness y kurtosis\n",
    "        skewness = skew(non_null_values)\n",
    "        kurt = kurtosis(non_null_values)\n",
    "        print(f'Variable: {column}')\n",
    "        print(f'Skewness: {skewness:.2f}')\n",
    "        print(f'Kurtosis: {kurt:.2f}')\n",
    "\n",
    "        # Calcular el número de outliers\n",
    "        mean = non_null_values.mean()\n",
    "        std = non_null_values.std()\n",
    "        outliers = non_null_values[(non_null_values < (mean - 4 * std)) | (non_null_values > (mean + 4 * std))]\n",
    "        print(f'Número de outliers: {len(outliers)}')\n",
    "        print()\n",
    "\n",
    "#plot_hist_boxplot_skew_kurt_outliers(trusted_data)"
   ]
  },
  {
   "cell_type": "markdown",
   "id": "1fa575c7",
   "metadata": {},
   "source": [
    "### Estudiando correlaciones entre diferentes gases"
   ]
  },
  {
   "cell_type": "code",
   "execution_count": 7,
   "id": "66f2f519",
   "metadata": {},
   "outputs": [
    {
     "data": {
      "image/png": "[encoded data removed]",
      "text/plain": [
       "<Figure size 1152x432 with 2 Axes>"
      ]
     },
     "metadata": {
      "needs_background": "light"
     },
     "output_type": "display_data"
    }
   ],
   "source": [
    "#Se visualizan correlaciones entre variables para estudio y entendimiento de datos\n",
    "import seaborn as sb\n",
    "plt.figure(figsize=(16, 6))\n",
    "heatmap = sb.heatmap(trusted_data.corr(method='spearman'), vmin=-1, vmax=1, annot=True)\n",
    "heatmap.set_title('Correlation Heatmap I', fontdict={'fontsize':12}, pad=12);\n"
   ]
  },
  {
   "cell_type": "markdown",
   "id": "4167d45d",
   "metadata": {},
   "source": [
    "## <b>2.4 Data Transformation</b>\n",
    "Transformación Box-Cox."
   ]
  },
  {
   "cell_type": "code",
   "execution_count": 8,
   "id": "3585aa11",
   "metadata": {},
   "outputs": [],
   "source": [
    "#Transformaciones para mitigar sesgo\n",
    "#Se propone la transformación boxcox para lidiar con el sesgo dañino previo a entrenamiento de modelos.\n",
    "def transform_box_cox(x):\n",
    "    \"\"\"\n",
    "    Aplica la transformación Box-Cox a las columnas de un DataFrame\n",
    "    cuyo skew sea superior a 1.25 o menor a -1.25. Imprime las variables transformadas,\n",
    "    su skew antes y después de la transformación, y el valor de lambda utilizado.\n",
    "    Indica si no fue necesario realizar ninguna transformación.\n",
    "\n",
    "    Parámetros:\n",
    "    - trusted_data: DataFrame de pandas con variables numéricas.\n",
    "\n",
    "    Retorna:\n",
    "    - DataFrame con las transformaciones aplicadas.\n",
    "    \"\"\"\n",
    "    # Variable para rastrear si alguna columna fue transformada\n",
    "    transformation_applied = False\n",
    "\n",
    "    for column in trusted_data.columns:\n",
    "        # Verificar que la columna sea de tipo numérico\n",
    "        if pd.api.types.is_numeric_dtype(trusted_data[column]):\n",
    "            skewness_before = trusted_data[column].skew()\n",
    "            # Verificar el skewness de la columna\n",
    "            if skewness_before > 1.25 or skewness_before < -1.25:\n",
    "                # Asegurarse de que todos los valores sean positivos\n",
    "                if all(trusted_data[column] > 0):\n",
    "                    # Aplicar la transformación Box-Cox\n",
    "                    transformed_data, best_lambda = stats.boxcox(trusted_data[column])\n",
    "                    trusted_data[column] = transformed_data\n",
    "                    skewness_after = trusted_data[column].skew()\n",
    "                    print(f\"Columna '{column}': Skew antes = {skewness_before:.2f}, Skew después = {skewness_after:.2f}, Lambda = {best_lambda:.2f}\")\n",
    "                    transformation_applied = True\n",
    "                else:\n",
    "                    print(f\"La columna '{column}' contiene valores no positivos y no se transformará.\")\n",
    "        else:\n",
    "            print(f\"La columna '{column}' no es numérica y será ignorada.\")\n",
    "\n",
    "    if not transformation_applied:\n",
    "        print(\"No fue necesario realizar ninguna transformación Box-Cox bajo el criterio de sesgo establecido.\")\n",
    "\n",
    "    #return trusted_data"
   ]
  },
  {
   "cell_type": "code",
   "execution_count": 9,
   "id": "93862e09",
   "metadata": {},
   "outputs": [
    {
     "name": "stdout",
     "output_type": "stream",
     "text": [
      "Columna 'NOx(GT)': Skew antes = 1.53, Skew después = -0.01, Lambda = 0.26\n"
     ]
    }
   ],
   "source": [
    "# Split the data into features (X) and target variable (y) and dropping specific columns from the dataset\n",
    "refined_data = trusted_data.copy()\n",
    "X = refined_data.drop(columns=['CO(GT)'], axis=1)\n",
    "y = refined_data['CO(GT)']\n",
    "\n",
    "transform_box_cox(X)"
   ]
  },
  {
   "cell_type": "markdown",
   "id": "75922684",
   "metadata": {},
   "source": [
    "# <b>3. Split data</b>"
   ]
  },
  {
   "cell_type": "code",
   "execution_count": 10,
   "id": "f1983f72",
   "metadata": {},
   "outputs": [],
   "source": [
    "# División en conjuntos de entrenamiento y prueba\n",
    "X_train, X_test, y_train, y_test = train_test_split(X, y, test_size=0.2, random_state=42, shuffle=False)  \n",
    "\n",
    "# Escalado de características\n",
    "min_max_scaler = MinMaxScaler()\n",
    "X_train_scaled = min_max_scaler.fit_transform(X_train)\n",
    "X_test_scaled = min_max_scaler.transform(X_test)"
   ]
  },
  {
   "cell_type": "code",
   "execution_count": 11,
   "id": "fc915aa0",
   "metadata": {},
   "outputs": [
    {
     "name": "stdout",
     "output_type": "stream",
     "text": [
      "(7400, 7) (7400,)\n"
     ]
    }
   ],
   "source": [
    "print(X_train.shape, y_train.shape)"
   ]
  },
  {
   "cell_type": "code",
   "execution_count": 12,
   "id": "cb2d27bb",
   "metadata": {},
   "outputs": [
    {
     "name": "stdout",
     "output_type": "stream",
     "text": [
      "(1850, 7) (1850,)\n"
     ]
    }
   ],
   "source": [
    "print(X_test.shape, y_test.shape)"
   ]
  },
  {
   "cell_type": "markdown",
   "id": "87798ef2",
   "metadata": {},
   "source": [
    "# <b>4. Train</b>"
   ]
  },
  {
   "cell_type": "code",
   "execution_count": 13,
   "id": "bce21a76",
   "metadata": {},
   "outputs": [],
   "source": [
    "# Función para encontrar los mejores parámetros con GridSearchCV\n",
    "def grid_search_forest(X_train, y_train):\n",
    "    param_grid = {\n",
    "        'n_estimators': [10, 20, 50],\n",
    "        'max_features': ['auto', 'sqrt'],\n",
    "        'max_depth': [5, 10],\n",
    "        'min_samples_split': [2, 5],\n",
    "        'min_samples_leaf': [1, 2]\n",
    "    }\n",
    "    grid_search = GridSearchCV(RandomForestRegressor(random_state=42), param_grid, cv=5, verbose=1, n_jobs=-1)\n",
    "    grid_search.fit(X_train, y_train)\n",
    "    return grid_search"
   ]
  },
  {
   "cell_type": "code",
   "execution_count": 14,
   "id": "85956be0",
   "metadata": {},
   "outputs": [
    {
     "name": "stdout",
     "output_type": "stream",
     "text": [
      "Fitting 5 folds for each of 48 candidates, totalling 240 fits\n",
      "Best parameters found:  {'max_depth': 10, 'max_features': 'sqrt', 'min_samples_leaf': 2, 'min_samples_split': 2, 'n_estimators': 50}\n"
     ]
    }
   ],
   "source": [
    "# Configurar y ejecutar GridSearchCV\n",
    "grid_search_results = grid_search_forest(X_train_scaled, y_train)\n",
    "best_forest = grid_search_results.best_estimator_\n",
    "print(\"Best parameters found: \", grid_search_results.best_params_)"
   ]
  },
  {
   "cell_type": "markdown",
   "id": "3335eaa4",
   "metadata": {},
   "source": [
    "# <b>5. Evaluate Random Forest Regressor</b>"
   ]
  },
  {
   "cell_type": "code",
   "execution_count": 15,
   "id": "7510f9e4",
   "metadata": {},
   "outputs": [],
   "source": [
    "#Función para realizar evaluación del modelo    \n",
    "def model_evaluation(estimator, X_train, y_train, X_test, y_test):\n",
    "    # Entrenar el modelo\n",
    "    estimator.fit(X_train, y_train)\n",
    "    # Predecir los valores para los conjuntos de entrenamiento y prueba\n",
    "    predicted_train_values = estimator.predict(X_train)\n",
    "    predicted_test_values = estimator.predict(X_test)\n",
    "    # Crear un DataFrame con las métricas de evaluación\n",
    "    scores = pd.DataFrame({\n",
    "        'train R2':   [r2_score(y_train, predicted_train_values)],\n",
    "        'test R2':    [r2_score(y_test, predicted_test_values)],\n",
    "        'train RMSE': [np.sqrt(mean_squared_error(y_train, predicted_train_values))],\n",
    "        'test RMSE':  [np.sqrt(mean_squared_error(y_test, predicted_test_values))],\n",
    "        'train MAE':  [mean_absolute_error(y_train, predicted_train_values)],\n",
    "        'test MAE':   [mean_absolute_error(y_test, predicted_test_values)]\n",
    "    })\n",
    "    return scores"
   ]
  },
  {
   "cell_type": "code",
   "execution_count": 16,
   "id": "76fe206d",
   "metadata": {},
   "outputs": [
    {
     "name": "stdout",
     "output_type": "stream",
     "text": [
      "   train R2  test R2  train RMSE  test RMSE  train MAE  test MAE\n",
      "0  0.912888  0.70917    0.351148   0.676076   0.244945  0.495087\n"
     ]
    }
   ],
   "source": [
    "# Evaluar el mejor modelo utilizando los mejores parámetros encontrados\n",
    "evaluation_results = model_evaluation(best_forest, X_train_scaled, y_train, X_test_scaled, y_test)\n",
    "print(evaluation_results)"
   ]
  }
 ],
 "metadata": {
  "kernelspec": {
   "display_name": "Python 3",
   "language": "python",
   "name": "python3"
  },
  "language_info": {
   "codemirror_mode": {
    "name": "ipython",
    "version": 3
   },
   "file_extension": ".py",
   "mimetype": "text/x-python",
   "name": "python",
   "nbconvert_exporter": "python",
   "pygments_lexer": "ipython3",
   "version": "3.8.8"
  }
 },
 "nbformat": 4,
 "nbformat_minor": 5
}
