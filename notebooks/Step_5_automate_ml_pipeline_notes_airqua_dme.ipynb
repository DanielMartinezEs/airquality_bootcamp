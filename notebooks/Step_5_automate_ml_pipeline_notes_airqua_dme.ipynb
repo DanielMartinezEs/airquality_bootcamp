{
 "cells": [
  {
   "cell_type": "markdown",
   "id": "4c192a8b",
   "metadata": {},
   "source": [
    "# Capstone Project (Wizeline Bootcamp)\n",
    "## Air Quality Dataset Analysis\n",
    "### Daniel Martínez Escobosa"
   ]
  },
  {
   "cell_type": "code",
   "execution_count": null,
   "id": "b65000e1",
   "metadata": {},
   "outputs": [],
   "source": [
    "# Set the repository root as a working directory \n",
    "%cd .."
   ]
  },
  {
   "cell_type": "markdown",
   "id": "d9b161fa-c6b4-4a2a-a7dd-b60da1cd1e60",
   "metadata": {},
   "source": [
    "# Init DVC repository\n",
    "\n",
    "1. Init DVC repository and setup DVC remote storage\n",
    "\n",
    "\n",
    "```bash\n",
    "dvc init\n",
    "```\n",
    "\n",
    "3. Add DVC repository under git control\n",
    "\n",
    "```bash\n",
    "git add .\n",
    "git commit -m \"Init DVC repo\"\n",
    "```"
   ]
  },
  {
   "cell_type": "markdown",
   "id": "262eb389-92bd-4db3-976a-fdea5120bffa",
   "metadata": {},
   "source": [
    "# View config"
   ]
  },
  {
   "cell_type": "code",
   "execution_count": null,
   "id": "ffd92198",
   "metadata": {},
   "outputs": [],
   "source": [
    "# Look on stages config \n",
    "!cat params.yaml"
   ]
  },
  {
   "cell_type": "markdown",
   "id": "1c1870bd",
   "metadata": {},
   "source": [
    "# Create and run stages for a DVC pipeline\n",
    "\n",
    "## Get data\n",
    "\n",
    "```bash\n",
    "dvc stage add -n data_load \\\n",
    "    -d src/stages/data_load.py \\\n",
    "    -o data/raw/AirQualityUCI_cleaned.csv \\\n",
    "    -p base,data_load \\\n",
    "    python src/stages/data_load.py --config=params.yaml\n",
    "```\n",
    "\n",
    "## Featurization\n",
    "\n",
    "```bash\n",
    "dvc stage add -n featurize \\\n",
    "    -d src/stages/featurize.py \\\n",
    "    -d data/raw/iris.csv \\\n",
    "    -o data/processed/featured_iris.csv \\\n",
    "    -p base,featurize \\\n",
    "    python src/stages/featurize.py --config=params.yaml\n",
    "```\n",
    "\n",
    "## Split dataset into train/test  \n",
    "- Using `dvc.yaml` editing \n",
    "- Copy/Paste lines below\n",
    "\n",
    "```yaml\n",
    "  data_split:\n",
    "    cmd: python src/stages/data_split.py --config=params.yaml\n",
    "    deps:\n",
    "    - data/processed/featured_iris.csv\n",
    "    - src/stages/data_split.py\n",
    "    params:\n",
    "    - base\n",
    "    - data_split\n",
    "    - featurize\n",
    "    outs:\n",
    "    - data/processed/test_iris.csv\n",
    "    - data/processed/train_iris.csv\n",
    "```\n",
    "\n",
    "\n",
    "## TODO \n",
    "\n",
    "- add DVC pipeline stage for `src/stages/train.py`\n",
    "- add DVC pipeline stage for `src/stages/evaluate.py`\n",
    "\n",
    "## Run pipeline\n",
    "\n",
    "```bash\n",
    "dvc repro\n",
    "```"
   ]
  },
  {
   "cell_type": "markdown",
   "id": "55e8cc4d-e8df-4316-a4ee-bd8301c7e779",
   "metadata": {},
   "source": [
    "# Reproduce pipeline\n",
    "\n",
    "a) Pipeline is up to date. Nothing to reproduce.\n",
    "\n",
    "```bash\n",
    "dvc repro\n",
    "```\n",
    "\n",
    "b) Use `-f` to forced reproducing of pipeline\n",
    "\n",
    "```bash\n",
    "dvc repro -f\n",
    "```\n"
   ]
  },
  {
   "cell_type": "markdown",
   "id": "6ee888c9-1b9b-4f7c-a713-a6fad590dbd3",
   "metadata": {},
   "source": [
    "# Commit code changes & pipeline\n",
    "```bash\n",
    "git add .\n",
    "git commit -m \"Create DVC pipeline\"\n",
    "```\n"
   ]
  },
  {
   "cell_type": "code",
   "execution_count": null,
   "id": "f724f84b-c3cc-4394-b8ad-ac2228389a88",
   "metadata": {},
   "outputs": [],
   "source": []
  }
 ],
 "metadata": {
  "kernelspec": {
   "display_name": "airqua_venv",
   "language": "python",
   "name": "airqua_venv"
  },
  "language_info": {
   "codemirror_mode": {
    "name": "ipython",
    "version": 3
   },
   "file_extension": ".py",
   "mimetype": "text/x-python",
   "name": "python",
   "nbconvert_exporter": "python",
   "pygments_lexer": "ipython3",
   "version": "3.12.3"
  }
 },
 "nbformat": 4,
 "nbformat_minor": 5
}
