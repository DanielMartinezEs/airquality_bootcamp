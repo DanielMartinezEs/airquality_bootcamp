{
 "cells": [
  {
   "cell_type": "markdown",
   "id": "4c192a8b",
   "metadata": {},
   "source": [
    "# Capstone Project (Wizeline Bootcamp)\n",
    "## Air Quality Dataset Analysis\n",
    "### Daniel Martínez Escobosa"
   ]
  },
  {
   "cell_type": "code",
   "execution_count": 1,
   "id": "b65000e1",
   "metadata": {},
   "outputs": [],
   "source": [
    "#This help us to update the code we import from our python modules in jupyter notebook\n",
    "%load_ext autoreload\n",
    "%autoreload 2\n",
    "\n",
    "import yaml\n",
    "import sys\n",
    "sys.path.append(\"..\")\n",
    "from src import *\n",
    "#from src.visualization.visualize import plot_hist_boxplot_skew_kurt_outliers\n",
    "#from src.visualization.visualize import plot_correlation_heatmap\n"
   ]
  },
  {
   "cell_type": "code",
   "execution_count": 2,
   "id": "ffd92198",
   "metadata": {},
   "outputs": [
    {
     "name": "stdout",
     "output_type": "stream",
     "text": [
      "C:\\Users\\daniel.martinez\\bootcamp_mlops\\proyecto_ind_dme\\airquality\n"
     ]
    }
   ],
   "source": [
    "cd .."
   ]
  },
  {
   "cell_type": "markdown",
   "id": "1c1870bd",
   "metadata": {},
   "source": [
    "# <b>1. Loading data</b>"
   ]
  },
  {
   "cell_type": "markdown",
   "id": "3422f927-250f-46d6-bbac-9895404823e7",
   "metadata": {},
   "source": [
    "### <b>1.1 Run as Python function</b>"
   ]
  },
  {
   "cell_type": "code",
   "execution_count": 3,
   "id": "e99bc626-15c2-4c93-a46d-dbf7e168e341",
   "metadata": {},
   "outputs": [
    {
     "name": "stdout",
     "output_type": "stream",
     "text": [
      "2024-05-18 11:48:55,147 — DATA_LOAD — INFO — Get dataset\n",
      "2024-05-18 11:48:55,199 — DATA_LOAD — INFO — Save raw data cleaned\n"
     ]
    }
   ],
   "source": [
    "#Se importa dataset\n",
    "from src.stages.data_load import data_load\n",
    "\n",
    "data_load('params.yaml')"
   ]
  },
  {
   "cell_type": "markdown",
   "id": "5b6652ed-77ae-4e0a-9b56-bf697bd1d905",
   "metadata": {},
   "source": [
    "### <b>1.2 Run as Python module</b>"
   ]
  },
  {
   "cell_type": "code",
   "execution_count": 4,
   "id": "b20b562e-761c-4935-82c0-1ca1d958df01",
   "metadata": {},
   "outputs": [
    {
     "name": "stdout",
     "output_type": "stream",
     "text": [
      "2024-05-18 11:48:56,175 — DATA_LOAD — INFO — Get dataset\n",
      "2024-05-18 11:48:56,197 — DATA_LOAD — INFO — Save raw data cleaned\n"
     ]
    }
   ],
   "source": [
    "!python src/stages/data_load.py --config=params.yaml"
   ]
  },
  {
   "cell_type": "markdown",
   "id": "c4af26c4",
   "metadata": {},
   "source": [
    "# <b>2. Featurize (Preprocessing)</b>\n",
    "###### <b>2.1 Feature Processing</b>\n",
    "###### <b>2.2 Data Prepare: Missing Values and Imputation</b>\n",
    "###### <b>2.3 Dealing with Outliers</b>\n",
    "###### <b>2.4 Data Transformation BoxCox</b>"
   ]
  },
  {
   "cell_type": "markdown",
   "id": "6aacc8b3-d1f8-4161-b42d-9fb670774c6c",
   "metadata": {},
   "source": [
    "### <b>2.1, 2.2, 2.3, 2.4 Run as Python function</b>"
   ]
  },
  {
   "cell_type": "code",
   "execution_count": 5,
   "id": "5ff9c9c2-36dd-4972-a685-167db2db1810",
   "metadata": {},
   "outputs": [
    {
     "name": "stdout",
     "output_type": "stream",
     "text": [
      "2024-05-18 11:48:59,791 — FEATURIZE — INFO — Load raw data cleaned\n",
      "2024-05-18 11:48:59,811 — FEATURIZE — INFO — Drop columns with no interest\n",
      "2024-05-18 11:48:59,822 — FEATURIZE — INFO — Missing Values and Imputation tasks\n",
      "2024-05-18 11:48:59,831 — FEATURIZE — INFO — Removing Outliers\n",
      "2024-05-18 11:48:59,840 — FEATURIZE — INFO — Separation of X and y prior to BoxCox transformation\n",
      "2024-05-18 11:48:59,841 — FEATURIZE — INFO — Box-Cox Transformation to feature set X\n",
      "Columna 'NOx(GT)': Skew antes = 1.47, Skew después = -0.01, Lambda = 0.27\n",
      "2024-05-18 11:48:59,902 — FEATURIZE — INFO — Save X_scaled and y sets\n",
      "2024-05-18 11:48:59,962 — FEATURIZE — INFO — featurize complete\n"
     ]
    }
   ],
   "source": [
    "from src.stages.featurize import featurize\n",
    "\n",
    "featurize('params.yaml')"
   ]
  },
  {
   "cell_type": "markdown",
   "id": "dfe40907-66f4-4ab6-bea6-720c2a861b96",
   "metadata": {},
   "source": [
    "### <b>2.1, 2.2, 2.3, 2.4 Run as Python module</b>"
   ]
  },
  {
   "cell_type": "code",
   "execution_count": 6,
   "id": "dc090153",
   "metadata": {},
   "outputs": [
    {
     "name": "stdout",
     "output_type": "stream",
     "text": [
      "2024-05-18 11:49:01,597 — FEATURIZE — INFO — Load raw data cleaned\n",
      "2024-05-18 11:49:01,614 — FEATURIZE — INFO — Drop columns with no interest\n",
      "2024-05-18 11:49:01,616 — FEATURIZE — INFO — Missing Values and Imputation tasks\n",
      "2024-05-18 11:49:01,620 — FEATURIZE — INFO — Removing Outliers\n",
      "2024-05-18 11:49:01,626 — FEATURIZE — INFO — Separation of X and y prior to BoxCox transformation\n",
      "2024-05-18 11:49:01,627 — FEATURIZE — INFO — Box-Cox Transformation to feature set X\n",
      "Columna 'NOx(GT)': Skew antes = 1.47, Skew después = -0.01, Lambda = 0.27\n",
      "2024-05-18 11:49:01,674 — FEATURIZE — INFO — Save X_scaled and y sets\n",
      "2024-05-18 11:49:01,730 — FEATURIZE — INFO — featurize complete\n"
     ]
    }
   ],
   "source": [
    "!python src/stages/featurize.py --config=params.yaml"
   ]
  },
  {
   "cell_type": "markdown",
   "id": "8e544deb",
   "metadata": {},
   "source": [
    "### <b>Exploración del dataset a través de estadística descriptiva al dataset</b>"
   ]
  },
  {
   "cell_type": "code",
   "execution_count": 7,
   "id": "8a510f72",
   "metadata": {},
   "outputs": [],
   "source": [
    "# Graficar histogramas y boxplots, y calcular sesgo, curtosis y número de registros outliers\n",
    "\n",
    "#plot_hist_boxplot_skew_kurt_outliers(trusted_data)"
   ]
  },
  {
   "cell_type": "markdown",
   "id": "1fa575c7",
   "metadata": {},
   "source": [
    "### Estudiando correlaciones entre diferentes gases"
   ]
  },
  {
   "cell_type": "code",
   "execution_count": 8,
   "id": "66f2f519",
   "metadata": {},
   "outputs": [],
   "source": [
    "#Se visualizan correlaciones entre variables para estudio y entendimiento de datos\n",
    "#plot_correlation_heatmap(trusted_data)"
   ]
  },
  {
   "cell_type": "markdown",
   "id": "75922684",
   "metadata": {},
   "source": [
    "# <b>3. Split data</b>"
   ]
  },
  {
   "cell_type": "markdown",
   "id": "0011c344-6490-4f32-9f78-5c2b2624eb7d",
   "metadata": {},
   "source": [
    "### <b>3.1 Run as Python function</b>"
   ]
  },
  {
   "cell_type": "code",
   "execution_count": 9,
   "id": "0db32194-c554-49e3-9e86-1751c215fc8a",
   "metadata": {},
   "outputs": [
    {
     "name": "stdout",
     "output_type": "stream",
     "text": [
      "2024-05-18 11:49:03,284 — DATA_SPLIT — INFO — Get featurize datasets\n",
      "2024-05-18 11:49:03,299 — DATA_SPLIT — INFO — Splitting data\n",
      "2024-05-18 11:49:03,301 — DATA_SPLIT — INFO — Scaling features\n",
      "2024-05-18 11:49:03,308 — DATA_SPLIT — INFO — Save train and test sets\n",
      "2024-05-18 11:49:03,447 — DATA_SPLIT — INFO — Data split completed\n"
     ]
    }
   ],
   "source": [
    "from src.stages.data_split import data_split\n",
    "\n",
    "data_split('params.yaml')"
   ]
  },
  {
   "cell_type": "markdown",
   "id": "6a747fd7-76b6-45a4-92de-e4cbd05ea79c",
   "metadata": {},
   "source": [
    "### <b>3.2 Run as Python module</b>"
   ]
  },
  {
   "cell_type": "code",
   "execution_count": 10,
   "id": "d96c1610-7d8c-493c-b9fd-0b3615003846",
   "metadata": {},
   "outputs": [
    {
     "name": "stdout",
     "output_type": "stream",
     "text": [
      "2024-05-18 11:49:05,130 — DATA_SPLIT — INFO — Get featurize datasets\n",
      "2024-05-18 11:49:05,146 — DATA_SPLIT — INFO — Splitting data\n",
      "2024-05-18 11:49:05,148 — DATA_SPLIT — INFO — Scaling features\n",
      "2024-05-18 11:49:05,151 — DATA_SPLIT — INFO — Save train and test sets\n",
      "2024-05-18 11:49:05,314 — DATA_SPLIT — INFO — Data split completed\n"
     ]
    }
   ],
   "source": [
    "!python src/stages/data_split.py --config=params.yaml"
   ]
  },
  {
   "cell_type": "markdown",
   "id": "87798ef2",
   "metadata": {},
   "source": [
    "# <b>4. Train</b>"
   ]
  },
  {
   "cell_type": "markdown",
   "id": "3616eb79-b9a9-4149-873f-fed92ea45b24",
   "metadata": {},
   "source": [
    "### <b>4.1 Run as Python function</b>"
   ]
  },
  {
   "cell_type": "code",
   "execution_count": 11,
   "id": "e9ffcb6e-a195-4d75-ae77-9858c31b6d1f",
   "metadata": {},
   "outputs": [
    {
     "name": "stdout",
     "output_type": "stream",
     "text": [
      "2024-05-18 11:49:06,366 — TRAIN — INFO — Get data splitted\n",
      "2024-05-18 11:49:06,384 — TRAIN — INFO — Train model\n",
      "Fitting 3 folds for each of 24 candidates, totalling 72 fits\n",
      "2024-05-18 11:49:14,668 — TRAIN — INFO — Evaluating hiperparameters to find the best model\n",
      "2024-05-18 11:49:14,668 — TRAIN — INFO — Best parameters found: {'max_depth': 10, 'max_features': 'sqrt', 'min_samples_leaf': 2, 'min_samples_split': 5, 'n_estimators': 10}\n",
      "2024-05-18 11:49:14,669 — TRAIN — INFO — Saving best model\n",
      "2024-05-18 11:49:14,675 — TRAIN — INFO — Train completed\n"
     ]
    }
   ],
   "source": [
    "from src.stages.train import train\n",
    "\n",
    "train('params.yaml')"
   ]
  },
  {
   "cell_type": "markdown",
   "id": "c88bd506-d1dc-43e7-8fd4-5b41ebf4dcdd",
   "metadata": {},
   "source": [
    "### <b>4.2 Run as Python module</b>"
   ]
  },
  {
   "cell_type": "code",
   "execution_count": 12,
   "id": "c920a55c-59fd-4631-b374-d1f58cbf6f69",
   "metadata": {},
   "outputs": [
    {
     "name": "stdout",
     "output_type": "stream",
     "text": [
      "2024-05-18 11:49:16,428 — TRAIN — INFO — Get data splitted\n",
      "2024-05-18 11:49:16,445 — TRAIN — INFO — Train model\n",
      "Fitting 3 folds for each of 24 candidates, totalling 72 fits\n",
      "2024-05-18 11:49:24,929 — TRAIN — INFO — Evaluating hiperparameters to find the best model\n",
      "2024-05-18 11:49:24,929 — TRAIN — INFO — Best parameters found: {'max_depth': 10, 'max_features': 'sqrt', 'min_samples_leaf': 2, 'min_samples_split': 5, 'n_estimators': 10}\n",
      "2024-05-18 11:49:24,929 — TRAIN — INFO — Saving best model\n",
      "2024-05-18 11:49:24,935 — TRAIN — INFO — Train completed\n"
     ]
    }
   ],
   "source": [
    "!python src/stages/train.py --config=params.yaml"
   ]
  },
  {
   "cell_type": "markdown",
   "id": "3335eaa4",
   "metadata": {},
   "source": [
    "# <b>5. Evaluate Random Forest Regressor</b>"
   ]
  },
  {
   "cell_type": "markdown",
   "id": "aaa49ae5-12cf-4c1a-a1f3-8fb7f106fd2d",
   "metadata": {},
   "source": [
    "### <b>5.1 Run as Python function</b>"
   ]
  },
  {
   "cell_type": "code",
   "execution_count": 16,
   "id": "ebf16156-66fe-4991-8f7f-24a1d87282e9",
   "metadata": {},
   "outputs": [
    {
     "name": "stdout",
     "output_type": "stream",
     "text": [
      "2024-05-18 11:53:02,442 — EVALUATE — INFO — Get data to evaluate\n",
      "2024-05-18 11:53:02,472 — EVALUATE — INFO — Load model\n",
      "2024-05-18 11:53:02,477 — EVALUATE — INFO — Evaluating with model\n",
      "2024-05-18 11:53:02,679 — EVALUATE — INFO — Showing Evaluation Metrics\n",
      "Metric  Train   Test\n",
      "    R2 0.9064 0.6795\n",
      "  RMSE 0.3619 0.6979\n",
      "   MAE 0.2509 0.5130\n",
      "2024-05-18 11:53:02,681 — EVALUATE — INFO — Starting saving metrics to JSON\n",
      "2024-05-18 11:53:02,683 — EVALUATE — INFO — Metrics saved to JSON: reports\\metrics.json\n",
      "2024-05-18 11:53:02,685 — EVALUATE — INFO — Evaluate completed\n"
     ]
    }
   ],
   "source": [
    "from src.stages.evaluate import evaluate\n",
    "\n",
    "evaluate('params.yaml')"
   ]
  },
  {
   "cell_type": "markdown",
   "id": "6397b534-9931-4216-8e5e-0392f81a89be",
   "metadata": {},
   "source": [
    "### <b>5.2 Run as Python module</b>"
   ]
  },
  {
   "cell_type": "code",
   "execution_count": 17,
   "id": "7510f9e4",
   "metadata": {},
   "outputs": [
    {
     "name": "stdout",
     "output_type": "stream",
     "text": [
      "2024-05-18 11:53:05,910 — EVALUATE — INFO — Get data to evaluate\n",
      "2024-05-18 11:53:05,934 — EVALUATE — INFO — Load model\n",
      "2024-05-18 11:53:06,073 — EVALUATE — INFO — Evaluating with model\n",
      "2024-05-18 11:53:06,291 — EVALUATE — INFO — Showing Evaluation Metrics\n",
      "Metric  Train   Test\n",
      "    R2 0.9064 0.6795\n",
      "  RMSE 0.3619 0.6979\n",
      "   MAE 0.2509 0.5130\n",
      "2024-05-18 11:53:06,293 — EVALUATE — INFO — Starting saving metrics to JSON\n",
      "2024-05-18 11:53:06,294 — EVALUATE — INFO — Metrics saved to JSON: reports\\metrics.json\n",
      "2024-05-18 11:53:06,294 — EVALUATE — INFO — Evaluate completed\n"
     ]
    }
   ],
   "source": [
    "!python src/stages/evaluate.py --config=params.yaml"
   ]
  },
  {
   "cell_type": "code",
   "execution_count": null,
   "id": "27adab8e-2363-4cf8-b7a9-f58b179d9d97",
   "metadata": {},
   "outputs": [],
   "source": []
  }
 ],
 "metadata": {
  "kernelspec": {
   "display_name": "airqua_venv",
   "language": "python",
   "name": "airqua_venv"
  },
  "language_info": {
   "codemirror_mode": {
    "name": "ipython",
    "version": 3
   },
   "file_extension": ".py",
   "mimetype": "text/x-python",
   "name": "python",
   "nbconvert_exporter": "python",
   "pygments_lexer": "ipython3",
   "version": "3.12.3"
  }
 },
 "nbformat": 4,
 "nbformat_minor": 5
}
